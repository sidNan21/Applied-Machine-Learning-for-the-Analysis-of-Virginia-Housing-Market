{
 "cells": [
  {
   "cell_type": "markdown",
   "metadata": {},
   "source": [
    "# ML Project: Regression of Zillow Home Value Index for Virginia Housing\n",
    "## Nanda, Siddharth (sn9dq); Wilson, Dale (dsw6ru)"
   ]
  },
  {
   "cell_type": "code",
   "execution_count": 1,
   "metadata": {},
   "outputs": [],
   "source": [
    "# Import some common packages\n",
    "import os\n",
    "import numpy as np\n",
    "import matplotlib\n",
    "import matplotlib.pyplot as plt\n",
    "import pandas as pd\n",
    "\n",
    "from pandas.plotting import scatter_matrix\n",
    "from sklearn.preprocessing import OneHotEncoder\n",
    "from sklearn.pipeline import Pipeline\n",
    "from sklearn.preprocessing import StandardScaler\n",
    "from sklearn.compose import ColumnTransformer\n",
    "from sklearn.model_selection import train_test_split\n",
    "\n",
    "# to make this notebook's output stable across runs\n",
    "np.random.seed(42)"
   ]
  },
  {
   "cell_type": "code",
   "execution_count": 10,
   "metadata": {},
   "outputs": [
    {
     "name": "stdout",
     "output_type": "stream",
     "text": [
      "Description of label\n"
     ]
    },
    {
     "data": {
      "text/plain": [
       "count    4.270000e+02\n",
       "mean     2.744948e+05\n",
       "std      1.704222e+05\n",
       "min      4.280000e+04\n",
       "25%      1.703000e+05\n",
       "50%      2.279000e+05\n",
       "75%      3.273500e+05\n",
       "max      1.072900e+06\n",
       "Name: Zhvi, dtype: float64"
      ]
     },
     "metadata": {},
     "output_type": "display_data"
    }
   ],
   "source": [
    "# Read in data/split\n",
    "housing = pd.read_csv('Zip_Zhvi_Summary_AllHomes.csv', encoding='latin-1')\n",
    "housing = housing.drop(columns=['County', 'City', 'PeakMonth', 'Metro', 'PeakQuarter', 'LastTimeAtCurrZHVI'])\n",
    "housing = housing.loc[housing['State'] == 'VA'].dropna()\n",
    "train_set, test_set = train_test_split(housing, test_size = 0.5)\n",
    "print(\"Description of label\")\n",
    "display(housing['Zhvi'].describe())\n",
    "y_train = train_set['Zhvi']\n",
    "X_train = train_set.drop(columns=['Zhvi'])\n",
    "\n",
    "y_test = test_set['Zhvi']\n",
    "X_test = test_set.drop(columns=['Zhvi'])"
   ]
  },
  {
   "cell_type": "code",
   "execution_count": 11,
   "metadata": {},
   "outputs": [],
   "source": [
    "# Pipelines for data transformation\n",
    "housing = housing.drop(columns=['Zhvi'])\n",
    "num_pipeline = Pipeline([\n",
    "    ('standard_scaler', StandardScaler())\n",
    "])\n",
    "\n",
    "full_pipeline = ColumnTransformer([\n",
    "    ('num', num_pipeline, list(housing.select_dtypes(include=[np.number]))),\n",
    "    ('cat', OneHotEncoder(), list(housing.select_dtypes(include=[np.object]).columns))\n",
    "])"
   ]
  },
  {
   "cell_type": "code",
   "execution_count": 12,
   "metadata": {},
   "outputs": [
    {
     "name": "stderr",
     "output_type": "stream",
     "text": [
      "/usr/local/anaconda3/lib/python3.6/site-packages/sklearn/preprocessing/data.py:645: DataConversionWarning: Data with input dtype int64, float64 were all converted to float64 by StandardScaler.\n",
      "  return self.partial_fit(X, y)\n",
      "/usr/local/anaconda3/lib/python3.6/site-packages/sklearn/base.py:464: DataConversionWarning: Data with input dtype int64, float64 were all converted to float64 by StandardScaler.\n",
      "  return self.fit(X, **fit_params).transform(X)\n",
      "/usr/local/anaconda3/lib/python3.6/site-packages/sklearn/pipeline.py:451: DataConversionWarning: Data with input dtype int64, float64 were all converted to float64 by StandardScaler.\n",
      "  Xt = transform.transform(Xt)\n"
     ]
    }
   ],
   "source": [
    "# fit_transform train set, and transform test set (scaling!)\n",
    "X_train = full_pipeline.fit_transform(X_train)\n",
    "X_test = full_pipeline.transform(X_test)"
   ]
  },
  {
   "cell_type": "code",
   "execution_count": 13,
   "metadata": {},
   "outputs": [
    {
     "name": "stdout",
     "output_type": "stream",
     "text": [
      "0.9938725219034839\n",
      "13840.250146965576\n"
     ]
    }
   ],
   "source": [
    "from sklearn.linear_model import LinearRegression\n",
    "from sklearn.metrics import r2_score, mean_squared_error\n",
    "lin_reg = LinearRegression()\n",
    "lin_reg.fit(X_train, y_train)\n",
    "y_pred = lin_reg.predict(X_test)\n",
    "print(r2_score(y_test, y_pred))\n",
    "print(np.sqrt(mean_squared_error(y_test, y_pred)))"
   ]
  },
  {
   "cell_type": "code",
   "execution_count": 14,
   "metadata": {},
   "outputs": [
    {
     "name": "stdout",
     "output_type": "stream",
     "text": [
      "0.9563282047216678\n",
      "36949.07568207716\n"
     ]
    },
    {
     "name": "stderr",
     "output_type": "stream",
     "text": [
      "/usr/local/anaconda3/lib/python3.6/site-packages/sklearn/linear_model/stochastic_gradient.py:166: FutureWarning: max_iter and tol parameters have been added in SGDRegressor in 0.19. If both are left unset, they default to max_iter=5 and tol=None. If tol is not None, max_iter defaults to max_iter=1000. From 0.21, default max_iter will be 1000, and default tol will be 1e-3.\n",
      "  FutureWarning)\n"
     ]
    }
   ],
   "source": [
    "from sklearn.linear_model import SGDRegressor\n",
    "mySGDModel = SGDRegressor() # CV?\n",
    "mySGDModel.fit(X_train, y_train)\n",
    "y_predict = mySGDModel.predict(X_test)\n",
    "print(r2_score(y_test, y_predict))\n",
    "print(np.sqrt(mean_squared_error(y_test, y_predict)))"
   ]
  },
  {
   "cell_type": "code",
   "execution_count": 15,
   "metadata": {},
   "outputs": [
    {
     "name": "stdout",
     "output_type": "stream",
     "text": [
      "The best estimator is:  Lasso(alpha=1.0, copy_X=True, fit_intercept=True, max_iter=10000,\n",
      "   normalize=False, positive=False, precompute=False, random_state=None,\n",
      "   selection='cyclic', tol=0.0001, warm_start=False)\n",
      "The best parameters are:  {'alpha': 1.0}\n",
      "0.9938729649433092\n",
      "13839.749786723238\n"
     ]
    },
    {
     "name": "stderr",
     "output_type": "stream",
     "text": [
      "/usr/local/anaconda3/lib/python3.6/site-packages/sklearn/model_selection/_search.py:841: DeprecationWarning: The default of the `iid` parameter will change from True to False in version 0.22 and will be removed in 0.24. This will change numeric results when test-set sizes are unequal.\n",
      "  DeprecationWarning)\n"
     ]
    }
   ],
   "source": [
    "from sklearn.model_selection import GridSearchCV\n",
    "from sklearn.linear_model import Lasso\n",
    "grid_search = GridSearchCV(Lasso(max_iter=10000), [{'alpha' : np.arange(0.1, 1.1, 0.1)}], cv=5)\n",
    "grid_search.fit(X_train, y_train)\n",
    "print(\"The best estimator is: \", grid_search.best_estimator_)\n",
    "print(\"The best parameters are: \", grid_search.best_params_)\n",
    "y_pred = grid_search.best_estimator_.predict(X_test)\n",
    "print(r2_score(y_test, y_pred))\n",
    "print(np.sqrt(mean_squared_error(y_test, y_pred)))"
   ]
  },
  {
   "cell_type": "code",
   "execution_count": 16,
   "metadata": {},
   "outputs": [
    {
     "name": "stdout",
     "output_type": "stream",
     "text": [
      "The best estimator is:  Ridge(alpha=1.0, copy_X=True, fit_intercept=True, max_iter=10000,\n",
      "   normalize=False, random_state=None, solver='saga', tol=0.001)\n",
      "The best parameters are:  {'solver': 'saga'}\n",
      "0.993564054259069\n",
      "14184.343594946205\n"
     ]
    }
   ],
   "source": [
    "from sklearn.linear_model import Ridge\n",
    "grid_search = GridSearchCV(Ridge(max_iter=10000), [{'solver' : ['auto', 'svd', 'cholesky', 'lsqr', 'sparse_cg', 'sag', 'saga']}], cv=5)\n",
    "grid_search.fit(X_train, y_train)\n",
    "print(\"The best estimator is: \", grid_search.best_estimator_)\n",
    "print(\"The best parameters are: \", grid_search.best_params_)\n",
    "y_pred = grid_search.best_estimator_.predict(X_test)\n",
    "print(r2_score(y_test, y_pred))\n",
    "print(np.sqrt(mean_squared_error(y_test, y_pred)))"
   ]
  },
  {
   "cell_type": "code",
   "execution_count": 17,
   "metadata": {},
   "outputs": [
    {
     "name": "stdout",
     "output_type": "stream",
     "text": [
      "The best estimator is:  ElasticNet(alpha=1.0, copy_X=True, fit_intercept=True, l1_ratio=0.9,\n",
      "      max_iter=1000, normalize=False, positive=False, precompute=False,\n",
      "      random_state=None, selection='cyclic', tol=0.0001, warm_start=False)\n",
      "The best parameters are:  {'l1_ratio': 0.9}\n",
      "0.9779735963898899\n",
      "26240.66593169994\n"
     ]
    },
    {
     "name": "stderr",
     "output_type": "stream",
     "text": [
      "/usr/local/anaconda3/lib/python3.6/site-packages/sklearn/model_selection/_search.py:841: DeprecationWarning: The default of the `iid` parameter will change from True to False in version 0.22 and will be removed in 0.24. This will change numeric results when test-set sizes are unequal.\n",
      "  DeprecationWarning)\n"
     ]
    }
   ],
   "source": [
    "from sklearn.linear_model import ElasticNet\n",
    "grid_search = GridSearchCV(ElasticNet(), [{'l1_ratio': np.arange(0.1, 1.0, 0.1)}], cv=5)\n",
    "grid_search.fit(X_train, y_train)\n",
    "print(\"The best estimator is: \", grid_search.best_estimator_)\n",
    "print(\"The best parameters are: \", grid_search.best_params_)\n",
    "y_pred = grid_search.best_estimator_.predict(X_test)\n",
    "print(r2_score(y_test, y_pred))\n",
    "print(np.sqrt(mean_squared_error(y_test, y_pred)))"
   ]
  }
 ],
 "metadata": {
  "kernelspec": {
   "display_name": "Python 3",
   "language": "python",
   "name": "python3"
  },
  "language_info": {
   "codemirror_mode": {
    "name": "ipython",
    "version": 3
   },
   "file_extension": ".py",
   "mimetype": "text/x-python",
   "name": "python",
   "nbconvert_exporter": "python",
   "pygments_lexer": "ipython3",
   "version": "3.6.8"
  }
 },
 "nbformat": 4,
 "nbformat_minor": 2
}
