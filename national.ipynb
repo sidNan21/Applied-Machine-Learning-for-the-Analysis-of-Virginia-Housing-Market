{
 "cells": [
  {
   "cell_type": "markdown",
   "metadata": {},
   "source": [
    "# ML Project: Regression of Zillow Home Value Index for Virginia Housing\n",
    "## Nanda, Siddharth (sn9dq); Wilson, Dale (dsw6ru)"
   ]
  },
  {
   "cell_type": "code",
   "execution_count": null,
   "metadata": {},
   "outputs": [],
   "source": [
    "# Import some common packages\n",
    "import os\n",
    "import numpy as np\n",
    "import matplotlib\n",
    "import matplotlib.pyplot as plt\n",
    "import pandas as pd\n",
    "\n",
    "from pandas.plotting import scatter_matrix\n",
    "from sklearn.preprocessing import OneHotEncoder\n",
    "from sklearn.pipeline import Pipeline\n",
    "from sklearn.preprocessing import StandardScaler\n",
    "from sklearn.compose import ColumnTransformer\n",
    "from sklearn.model_selection import train_test_split\n",
    "\n",
    "# to make this notebook's output stable across runs\n",
    "np.random.seed(42)"
   ]
  },
  {
   "cell_type": "code",
   "execution_count": 17,
   "metadata": {},
   "outputs": [
    {
     "name": "stdout",
     "output_type": "stream",
     "text": [
      "Description of label\n"
     ]
    },
    {
     "data": {
      "text/plain": [
       "count    1.496800e+04\n",
       "mean     2.816919e+05\n",
       "std      2.734603e+05\n",
       "min      2.430000e+04\n",
       "25%      1.395000e+05\n",
       "50%      2.061000e+05\n",
       "75%      3.246500e+05\n",
       "max      6.493800e+06\n",
       "Name: Zhvi, dtype: float64"
      ]
     },
     "metadata": {},
     "output_type": "display_data"
    }
   ],
   "source": [
    "# Read in data/split\n",
    "housing = pd.read_csv('Zip_Zhvi_Summary_AllHomes.csv', encoding='latin-1')\n",
    "housing = housing.drop(columns=['County', 'City', 'PeakMonth', 'Metro', 'PeakQuarter', 'LastTimeAtCurrZHVI'])\n",
    "va = housing.loc[housing['State'] == 'VA'].dropna()\n",
    "housing = housing.dropna()\n",
    "\n",
    "train_set, test_set = train_test_split(housing, test_size = 0.2)\n",
    "print(\"Description of label\")\n",
    "display(housing['Zhvi'].describe())\n",
    "y_train = train_set['Zhvi']\n",
    "X_train = train_set.drop(columns=['Zhvi'])\n",
    "\n",
    "y_test = test_set['Zhvi']\n",
    "X_test = test_set.drop(columns=['Zhvi'])"
   ]
  },
  {
   "cell_type": "code",
   "execution_count": 18,
   "metadata": {},
   "outputs": [],
   "source": [
    "# Pipelines for data transformation\n",
    "housing = housing.drop(columns=['Zhvi'])\n",
    "num_pipeline = Pipeline([\n",
    "    ('standard_scaler', StandardScaler())\n",
    "])\n",
    "\n",
    "full_pipeline = ColumnTransformer([\n",
    "    ('num', num_pipeline, list(housing.select_dtypes(include=[np.number]))),\n",
    "    ('cat', OneHotEncoder(), list(housing.select_dtypes(include=[np.object]).columns))\n",
    "])"
   ]
  },
  {
   "cell_type": "code",
   "execution_count": 19,
   "metadata": {},
   "outputs": [
    {
     "name": "stderr",
     "output_type": "stream",
     "text": [
      "/usr/local/anaconda3/lib/python3.6/site-packages/sklearn/preprocessing/data.py:645: DataConversionWarning: Data with input dtype int64, float64 were all converted to float64 by StandardScaler.\n",
      "  return self.partial_fit(X, y)\n",
      "/usr/local/anaconda3/lib/python3.6/site-packages/sklearn/base.py:464: DataConversionWarning: Data with input dtype int64, float64 were all converted to float64 by StandardScaler.\n",
      "  return self.fit(X, **fit_params).transform(X)\n",
      "/usr/local/anaconda3/lib/python3.6/site-packages/sklearn/pipeline.py:451: DataConversionWarning: Data with input dtype int64, float64 were all converted to float64 by StandardScaler.\n",
      "  Xt = transform.transform(Xt)\n",
      "/usr/local/anaconda3/lib/python3.6/site-packages/sklearn/pipeline.py:451: DataConversionWarning: Data with input dtype int64, float64 were all converted to float64 by StandardScaler.\n",
      "  Xt = transform.transform(Xt)\n"
     ]
    }
   ],
   "source": [
    "# fit_transform train set, and transform test set (scaling!)\n",
    "X_train = full_pipeline.fit_transform(X_train)\n",
    "X_test = full_pipeline.transform(X_test)\n",
    "\n",
    "va_y = va['Zhvi']\n",
    "va_x = va.drop(columns=['Zhvi'])\n",
    "va_x = full_pipeline.transform(va_x)"
   ]
  },
  {
   "cell_type": "code",
   "execution_count": 20,
   "metadata": {},
   "outputs": [
    {
     "name": "stdout",
     "output_type": "stream",
     "text": [
      "National LinReg\n",
      "0.9954922048847467\n",
      "19205.981491861116\n"
     ]
    }
   ],
   "source": [
    "from sklearn.linear_model import LinearRegression\n",
    "from sklearn.metrics import r2_score, mean_squared_error\n",
    "lin_reg = LinearRegression()\n",
    "lin_reg.fit(X_train, y_train)\n",
    "y_pred = lin_reg.predict(X_test)\n",
    "print(\"National LinReg\")\n",
    "print(r2_score(y_test, y_pred))\n",
    "print(np.sqrt(mean_squared_error(y_test, y_pred)))"
   ]
  },
  {
   "cell_type": "code",
   "execution_count": 21,
   "metadata": {},
   "outputs": [
    {
     "name": "stdout",
     "output_type": "stream",
     "text": [
      "Virginia LinReg\n",
      "0.9913687068461461\n",
      "15814.483851067685\n"
     ]
    }
   ],
   "source": [
    "print(\"Virginia LinReg\")\n",
    "y_pred = lin_reg.predict(va_x)\n",
    "print(r2_score(va_y, y_pred))\n",
    "print(np.sqrt(mean_squared_error(va_y, y_pred)))"
   ]
  }
 ],
 "metadata": {
  "kernelspec": {
   "display_name": "Python 3",
   "language": "python",
   "name": "python3"
  },
  "language_info": {
   "codemirror_mode": {
    "name": "ipython",
    "version": 3
   },
   "file_extension": ".py",
   "mimetype": "text/x-python",
   "name": "python",
   "nbconvert_exporter": "python",
   "pygments_lexer": "ipython3",
   "version": "3.6.8"
  }
 },
 "nbformat": 4,
 "nbformat_minor": 2
}
